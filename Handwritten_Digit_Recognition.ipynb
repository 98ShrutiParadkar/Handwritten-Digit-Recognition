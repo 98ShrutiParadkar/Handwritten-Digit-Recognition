{
  "nbformat": 4,
  "nbformat_minor": 0,
  "metadata": {
    "colab": {
      "provenance": []
    },
    "kernelspec": {
      "name": "python3",
      "display_name": "Python 3"
    },
    "language_info": {
      "name": "python"
    }
  },
  "cells": [
    {
      "cell_type": "markdown",
      "source": [
        "## Handwritten Digit Recognition using Neural Networks\n",
        "\n",
        "This project focuses on building a machine learning model to recognize handwritten digits from grayscale images using the MNIST dataset. The MNIST dataset is a benchmark dataset in the field of image processing and machine learning, consisting of 60,000 training images and 10,000 test images, each representing digits from 0 to 9.\n",
        "\n",
        "### Objectives:\n",
        "1. Preprocess the grayscale images and prepare them for input into a neural network.\n",
        "2. Build and train a neural network capable of accurately classifying the digits.\n",
        "3. Evaluate the performance of the model and explore its accuracy on unseen data.\n",
        "\n",
        "This project uses the Keras library with TensorFlow as the backend to build a sequential neural network. The simplicity and structure of this model make it an excellent starting point for learning image classification and machine learning concepts.\n",
        "\n",
        "By the end of this notebook, you'll have a functional digit recognition model that achieves high accuracy on the MNIST dataset and can make predictions on new data.\n"
      ],
      "metadata": {
        "id": "eLTSSUlpXHla"
      }
    },
    {
      "cell_type": "markdown",
      "source": [
        "### Step 1: Import Libraries"
      ],
      "metadata": {
        "id": "H51cSSO9XJ_r"
      }
    },
    {
      "cell_type": "code",
      "execution_count": 1,
      "metadata": {
        "id": "YAzhBPyaXF_7"
      },
      "outputs": [],
      "source": [
        "import numpy as np\n",
        "import matplotlib.pyplot as plt\n",
        "from tensorflow.keras.datasets import mnist\n",
        "from tensorflow.keras.models import Sequential\n",
        "from tensorflow.keras.layers import Dense, Flatten\n",
        "from tensorflow.keras.utils import to_categorical\n"
      ]
    },
    {
      "cell_type": "markdown",
      "source": [
        "### Step 2: Load and Preprocess the Data"
      ],
      "metadata": {
        "id": "LySza1blX_gR"
      }
    },
    {
      "cell_type": "code",
      "source": [
        "# Load the dataset\n",
        "(x_train, y_train), (x_test, y_test) = mnist.load_data()\n",
        "\n",
        "# Normalize the data to [0, 1] range\n",
        "x_train = x_train / 255.0\n",
        "x_test = x_test / 255.0\n",
        "\n",
        "# One-hot encode the labels\n",
        "y_train = to_categorical(y_train, 10)\n",
        "y_test = to_categorical(y_test, 10)\n",
        "\n",
        "# Display a sample image\n",
        "plt.imshow(x_train[0], cmap='gray')\n",
        "plt.title(f\"Label: {np.argmax(y_train[0])}\")\n",
        "plt.show()\n"
      ],
      "metadata": {
        "colab": {
          "base_uri": "https://localhost:8080/",
          "height": 487
        },
        "id": "5H0EvJWrXH8E",
        "outputId": "a9399832-3b29-41e8-c23f-31d2566cf853"
      },
      "execution_count": 2,
      "outputs": [
        {
          "output_type": "stream",
          "name": "stdout",
          "text": [
            "Downloading data from https://storage.googleapis.com/tensorflow/tf-keras-datasets/mnist.npz\n",
            "\u001b[1m11490434/11490434\u001b[0m \u001b[32m━━━━━━━━━━━━━━━━━━━━\u001b[0m\u001b[37m\u001b[0m \u001b[1m0s\u001b[0m 0us/step\n"
          ]
        },
        {
          "output_type": "display_data",
          "data": {
            "text/plain": [
              "<Figure size 640x480 with 1 Axes>"
            ],
            "image/png": "[encoded data removed]"
          },
          "metadata": {}
        }
      ]
    },
    {
      "cell_type": "markdown",
      "source": [
        "### Step 3: Build the Neural Network"
      ],
      "metadata": {
        "id": "MDnxLLz8YEd2"
      }
    },
    {
      "cell_type": "code",
      "source": [
        "model = Sequential([\n",
        "    Flatten(input_shape=(28, 28)),  # Flatten the 28x28 images into a 1D array\n",
        "    Dense(128, activation='relu'),  # First dense layer with 128 neurons\n",
        "    Dense(64, activation='relu'),   # Second dense layer with 64 neurons\n",
        "    Dense(10, activation='softmax') # Output layer for 10 classes\n",
        "])\n",
        "\n",
        "# Compile the model\n",
        "model.compile(optimizer='adam',\n",
        "              loss='categorical_crossentropy',\n",
        "              metrics=['accuracy'])\n"
      ],
      "metadata": {
        "colab": {
          "base_uri": "https://localhost:8080/"
        },
        "id": "-qsQuUfHXSOz",
        "outputId": "120dff47-d4d4-4dac-89fd-c6f246b0e8ed"
      },
      "execution_count": 3,
      "outputs": [
        {
          "output_type": "stream",
          "name": "stderr",
          "text": [
            "/usr/local/lib/python3.10/dist-packages/keras/src/layers/reshaping/flatten.py:37: UserWarning: Do not pass an `input_shape`/`input_dim` argument to a layer. When using Sequential models, prefer using an `Input(shape)` object as the first layer in the model instead.\n",
            "  super().__init__(**kwargs)\n"
          ]
        }
      ]
    },
    {
      "cell_type": "markdown",
      "source": [
        "### Step 4: Train the Model"
      ],
      "metadata": {
        "id": "P2odk1moYJR5"
      }
    },
    {
      "cell_type": "code",
      "source": [
        "# Train the model\n",
        "history = model.fit(x_train, y_train, epochs=10, batch_size=32, validation_split=0.2)\n"
      ],
      "metadata": {
        "colab": {
          "base_uri": "https://localhost:8080/"
        },
        "id": "SaPDHX7uXY3N",
        "outputId": "f65781fc-27a9-42b3-897a-1fef46bf6deb"
      },
      "execution_count": 4,
      "outputs": [
        {
          "output_type": "stream",
          "name": "stdout",
          "text": [
            "Epoch 1/10\n",
            "\u001b[1m1500/1500\u001b[0m \u001b[32m━━━━━━━━━━━━━━━━━━━━\u001b[0m\u001b[37m\u001b[0m \u001b[1m7s\u001b[0m 4ms/step - accuracy: 0.8616 - loss: 0.4758 - val_accuracy: 0.9632 - val_loss: 0.1297\n",
            "Epoch 2/10\n",
            "\u001b[1m1500/1500\u001b[0m \u001b[32m━━━━━━━━━━━━━━━━━━━━\u001b[0m\u001b[37m\u001b[0m \u001b[1m7s\u001b[0m 5ms/step - accuracy: 0.9657 - loss: 0.1145 - val_accuracy: 0.9691 - val_loss: 0.1059\n",
            "Epoch 3/10\n",
            "\u001b[1m1500/1500\u001b[0m \u001b[32m━━━━━━━━━━━━━━━━━━━━\u001b[0m\u001b[37m\u001b[0m \u001b[1m6s\u001b[0m 4ms/step - accuracy: 0.9770 - loss: 0.0749 - val_accuracy: 0.9687 - val_loss: 0.1046\n",
            "Epoch 4/10\n",
            "\u001b[1m1500/1500\u001b[0m \u001b[32m━━━━━━━━━━━━━━━━━━━━\u001b[0m\u001b[37m\u001b[0m \u001b[1m8s\u001b[0m 5ms/step - accuracy: 0.9834 - loss: 0.0525 - val_accuracy: 0.9710 - val_loss: 0.0990\n",
            "Epoch 5/10\n",
            "\u001b[1m1500/1500\u001b[0m \u001b[32m━━━━━━━━━━━━━━━━━━━━\u001b[0m\u001b[37m\u001b[0m \u001b[1m6s\u001b[0m 4ms/step - accuracy: 0.9878 - loss: 0.0386 - val_accuracy: 0.9734 - val_loss: 0.0937\n",
            "Epoch 6/10\n",
            "\u001b[1m1500/1500\u001b[0m \u001b[32m━━━━━━━━━━━━━━━━━━━━\u001b[0m\u001b[37m\u001b[0m \u001b[1m8s\u001b[0m 5ms/step - accuracy: 0.9895 - loss: 0.0324 - val_accuracy: 0.9737 - val_loss: 0.1007\n",
            "Epoch 7/10\n",
            "\u001b[1m1500/1500\u001b[0m \u001b[32m━━━━━━━━━━━━━━━━━━━━\u001b[0m\u001b[37m\u001b[0m \u001b[1m8s\u001b[0m 4ms/step - accuracy: 0.9912 - loss: 0.0257 - val_accuracy: 0.9699 - val_loss: 0.1199\n",
            "Epoch 8/10\n",
            "\u001b[1m1500/1500\u001b[0m \u001b[32m━━━━━━━━━━━━━━━━━━━━\u001b[0m\u001b[37m\u001b[0m \u001b[1m10s\u001b[0m 4ms/step - accuracy: 0.9934 - loss: 0.0196 - val_accuracy: 0.9744 - val_loss: 0.1059\n",
            "Epoch 9/10\n",
            "\u001b[1m1500/1500\u001b[0m \u001b[32m━━━━━━━━━━━━━━━━━━━━\u001b[0m\u001b[37m\u001b[0m \u001b[1m10s\u001b[0m 4ms/step - accuracy: 0.9941 - loss: 0.0174 - val_accuracy: 0.9741 - val_loss: 0.1132\n",
            "Epoch 10/10\n",
            "\u001b[1m1500/1500\u001b[0m \u001b[32m━━━━━━━━━━━━━━━━━━━━\u001b[0m\u001b[37m\u001b[0m \u001b[1m7s\u001b[0m 5ms/step - accuracy: 0.9944 - loss: 0.0170 - val_accuracy: 0.9737 - val_loss: 0.1183\n"
          ]
        }
      ]
    },
    {
      "cell_type": "markdown",
      "source": [
        "### Step 5: Evaluate the Model"
      ],
      "metadata": {
        "id": "sjEs_N6jYODn"
      }
    },
    {
      "cell_type": "code",
      "source": [
        "# Evaluate on test data\n",
        "test_loss, test_accuracy = model.evaluate(x_test, y_test)\n",
        "print(f\"Test Accuracy: {test_accuracy * 100:.2f}%\")\n"
      ],
      "metadata": {
        "colab": {
          "base_uri": "https://localhost:8080/"
        },
        "id": "v0o8sTGHXboy",
        "outputId": "6e4c26e0-9bdd-4314-dc22-0ae87090e058"
      },
      "execution_count": 5,
      "outputs": [
        {
          "output_type": "stream",
          "name": "stdout",
          "text": [
            "\u001b[1m313/313\u001b[0m \u001b[32m━━━━━━━━━━━━━━━━━━━━\u001b[0m\u001b[37m\u001b[0m \u001b[1m1s\u001b[0m 2ms/step - accuracy: 0.9686 - loss: 0.1260\n",
            "Test Accuracy: 97.33%\n"
          ]
        }
      ]
    },
    {
      "cell_type": "markdown",
      "source": [
        "### Step 6: Save the Model"
      ],
      "metadata": {
        "id": "U7rSwZdiYUck"
      }
    },
    {
      "cell_type": "code",
      "source": [
        "# Save the trained model\n",
        "model.save(\"digit_recognition_model.h5\")\n",
        "print(\"Model saved!\")\n"
      ],
      "metadata": {
        "colab": {
          "base_uri": "https://localhost:8080/"
        },
        "id": "UD9_TLVDXgVz",
        "outputId": "4752bfd4-0e22-48e4-e93a-37cfe215e4fd"
      },
      "execution_count": 6,
      "outputs": [
        {
          "output_type": "stream",
          "name": "stderr",
          "text": [
            "WARNING:absl:You are saving your model as an HDF5 file via `model.save()` or `keras.saving.save_model(model)`. This file format is considered legacy. We recommend using instead the native Keras format, e.g. `model.save('my_model.keras')` or `keras.saving.save_model(model, 'my_model.keras')`. \n"
          ]
        },
        {
          "output_type": "stream",
          "name": "stdout",
          "text": [
            "Model saved!\n"
          ]
        }
      ]
    },
    {
      "cell_type": "markdown",
      "source": [
        "### Step 7: Make Predictions"
      ],
      "metadata": {
        "id": "9zGgACKSYXlT"
      }
    },
    {
      "cell_type": "code",
      "source": [
        "# Load a sample test image\n",
        "sample_image = x_test[0].reshape(1, 28, 28)  # Reshape for prediction\n",
        "prediction = model.predict(sample_image)\n",
        "\n",
        "print(f\"Predicted Label: {np.argmax(prediction)}\")\n",
        "plt.imshow(x_test[0], cmap='gray')\n",
        "plt.title(f\"Model Prediction: {np.argmax(prediction)}\")\n",
        "plt.show()\n"
      ],
      "metadata": {
        "colab": {
          "base_uri": "https://localhost:8080/",
          "height": 487
        },
        "id": "1cd3B0I2XegK",
        "outputId": "20b049da-9020-4d22-9ace-c14fea482bd6"
      },
      "execution_count": 7,
      "outputs": [
        {
          "output_type": "stream",
          "name": "stdout",
          "text": [
            "\u001b[1m1/1\u001b[0m \u001b[32m━━━━━━━━━━━━━━━━━━━━\u001b[0m\u001b[37m\u001b[0m \u001b[1m0s\u001b[0m 54ms/step\n",
            "Predicted Label: 7\n"
          ]
        },
        {
          "output_type": "display_data",
          "data": {
            "text/plain": [
              "<Figure size 640x480 with 1 Axes>"
            ],
            "image/png": "[encoded data removed]"
          },
          "metadata": {}
        }
      ]
    },
    {
      "cell_type": "markdown",
      "source": [
        "## Conclusion\n",
        "\n",
        "In this project, we successfully built and trained a neural network for handwritten digit recognition using the MNIST dataset. Below are the key takeaways:\n",
        "\n",
        "1. **Data Preprocessing**: We normalized the pixel values of the images to a range of 0 to 1, which improved the model's convergence during training.\n",
        "2. **Model Architecture**: The neural network consisted of a flattening layer, two dense hidden layers, and an output layer with a softmax activation function for multi-class classification.\n",
        "3. **Performance**: The model achieved an accuracy of approximately XX% on the test dataset, demonstrating its ability to generalize well on unseen data.\n",
        "4. **Practical Application**: This model can be used as a baseline for digit recognition tasks and extended further for more complex handwritten text recognition systems.\n",
        "\n",
        "\n",
        "\n"
      ],
      "metadata": {
        "id": "ATh9TgCgYctr"
      }
    }
  ]
}